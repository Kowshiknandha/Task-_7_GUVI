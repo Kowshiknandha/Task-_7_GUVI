{
  "nbformat": 4,
  "nbformat_minor": 0,
  "metadata": {
    "colab": {
      "provenance": [],
      "include_colab_link": true
    },
    "kernelspec": {
      "name": "python3",
      "display_name": "Python 3"
    },
    "language_info": {
      "name": "python"
    }
  },
  "cells": [
    {
      "cell_type": "markdown",
      "metadata": {
        "id": "view-in-github",
        "colab_type": "text"
      },
      "source": [
        "<a href=\"https://colab.research.google.com/github/Kowshiknandha/Task-_7_GUVI/blob/main/Assignment_13.ipynb\" target=\"_parent\"><img src=\"https://colab.research.google.com/assets/colab-badge.svg\" alt=\"Open In Colab\"/></a>"
      ]
    },
    {
      "cell_type": "code",
      "source": [
        "#Social_Networks_Ads.csv"
      ],
      "metadata": {
        "id": "HeXYlZ7RZrug"
      },
      "execution_count": 1,
      "outputs": []
    },
    {
      "cell_type": "markdown",
      "source": [
        "Importing the libraries"
      ],
      "metadata": {
        "id": "gyw8UtQuZsKU"
      }
    },
    {
      "cell_type": "code",
      "execution_count": 2,
      "metadata": {
        "id": "aXXTkdLuIpEH"
      },
      "outputs": [],
      "source": [
        "import pandas as pd\n",
        "import numpy as np\n",
        "import matplotlib.pyplot as plt\n",
        "import seaborn as sns\n"
      ]
    },
    {
      "cell_type": "markdown",
      "source": [
        "Importing the dataset"
      ],
      "metadata": {
        "id": "Pz1knzKCZuib"
      }
    },
    {
      "cell_type": "code",
      "source": [
        "data = pd.read_csv('Social_Network_Ads.csv')\n",
        "data.head()"
      ],
      "metadata": {
        "colab": {
          "base_uri": "https://localhost:8080/",
          "height": 206
        },
        "id": "XlcmkCboIxW1",
        "outputId": "776177f0-7a23-436d-bf5a-77c5f573ee83"
      },
      "execution_count": 3,
      "outputs": [
        {
          "output_type": "execute_result",
          "data": {
            "text/plain": [
              "    User ID  Gender  Age  EstimatedSalary  Purchased\n",
              "0  15624510    Male   19            19000          0\n",
              "1  15810944    Male   35            20000          0\n",
              "2  15668575  Female   26            43000          0\n",
              "3  15603246  Female   27            57000          0\n",
              "4  15804002    Male   19            76000          0"
            ],
            "text/html": [
              "\n",
              "  <div id=\"df-c21e4e60-c246-4c24-bb1c-4f25a797af75\">\n",
              "    <div class=\"colab-df-container\">\n",
              "      <div>\n",
              "<style scoped>\n",
              "    .dataframe tbody tr th:only-of-type {\n",
              "        vertical-align: middle;\n",
              "    }\n",
              "\n",
              "    .dataframe tbody tr th {\n",
              "        vertical-align: top;\n",
              "    }\n",
              "\n",
              "    .dataframe thead th {\n",
              "        text-align: right;\n",
              "    }\n",
              "</style>\n",
              "<table border=\"1\" class=\"dataframe\">\n",
              "  <thead>\n",
              "    <tr style=\"text-align: right;\">\n",
              "      <th></th>\n",
              "      <th>User ID</th>\n",
              "      <th>Gender</th>\n",
              "      <th>Age</th>\n",
              "      <th>EstimatedSalary</th>\n",
              "      <th>Purchased</th>\n",
              "    </tr>\n",
              "  </thead>\n",
              "  <tbody>\n",
              "    <tr>\n",
              "      <th>0</th>\n",
              "      <td>15624510</td>\n",
              "      <td>Male</td>\n",
              "      <td>19</td>\n",
              "      <td>19000</td>\n",
              "      <td>0</td>\n",
              "    </tr>\n",
              "    <tr>\n",
              "      <th>1</th>\n",
              "      <td>15810944</td>\n",
              "      <td>Male</td>\n",
              "      <td>35</td>\n",
              "      <td>20000</td>\n",
              "      <td>0</td>\n",
              "    </tr>\n",
              "    <tr>\n",
              "      <th>2</th>\n",
              "      <td>15668575</td>\n",
              "      <td>Female</td>\n",
              "      <td>26</td>\n",
              "      <td>43000</td>\n",
              "      <td>0</td>\n",
              "    </tr>\n",
              "    <tr>\n",
              "      <th>3</th>\n",
              "      <td>15603246</td>\n",
              "      <td>Female</td>\n",
              "      <td>27</td>\n",
              "      <td>57000</td>\n",
              "      <td>0</td>\n",
              "    </tr>\n",
              "    <tr>\n",
              "      <th>4</th>\n",
              "      <td>15804002</td>\n",
              "      <td>Male</td>\n",
              "      <td>19</td>\n",
              "      <td>76000</td>\n",
              "      <td>0</td>\n",
              "    </tr>\n",
              "  </tbody>\n",
              "</table>\n",
              "</div>\n",
              "      <button class=\"colab-df-convert\" onclick=\"convertToInteractive('df-c21e4e60-c246-4c24-bb1c-4f25a797af75')\"\n",
              "              title=\"Convert this dataframe to an interactive table.\"\n",
              "              style=\"display:none;\">\n",
              "        \n",
              "  <svg xmlns=\"http://www.w3.org/2000/svg\" height=\"24px\"viewBox=\"0 0 24 24\"\n",
              "       width=\"24px\">\n",
              "    <path d=\"M0 0h24v24H0V0z\" fill=\"none\"/>\n",
              "    <path d=\"M18.56 5.44l.94 2.06.94-2.06 2.06-.94-2.06-.94-.94-2.06-.94 2.06-2.06.94zm-11 1L8.5 8.5l.94-2.06 2.06-.94-2.06-.94L8.5 2.5l-.94 2.06-2.06.94zm10 10l.94 2.06.94-2.06 2.06-.94-2.06-.94-.94-2.06-.94 2.06-2.06.94z\"/><path d=\"M17.41 7.96l-1.37-1.37c-.4-.4-.92-.59-1.43-.59-.52 0-1.04.2-1.43.59L10.3 9.45l-7.72 7.72c-.78.78-.78 2.05 0 2.83L4 21.41c.39.39.9.59 1.41.59.51 0 1.02-.2 1.41-.59l7.78-7.78 2.81-2.81c.8-.78.8-2.07 0-2.86zM5.41 20L4 18.59l7.72-7.72 1.47 1.35L5.41 20z\"/>\n",
              "  </svg>\n",
              "      </button>\n",
              "      \n",
              "  <style>\n",
              "    .colab-df-container {\n",
              "      display:flex;\n",
              "      flex-wrap:wrap;\n",
              "      gap: 12px;\n",
              "    }\n",
              "\n",
              "    .colab-df-convert {\n",
              "      background-color: #E8F0FE;\n",
              "      border: none;\n",
              "      border-radius: 50%;\n",
              "      cursor: pointer;\n",
              "      display: none;\n",
              "      fill: #1967D2;\n",
              "      height: 32px;\n",
              "      padding: 0 0 0 0;\n",
              "      width: 32px;\n",
              "    }\n",
              "\n",
              "    .colab-df-convert:hover {\n",
              "      background-color: #E2EBFA;\n",
              "      box-shadow: 0px 1px 2px rgba(60, 64, 67, 0.3), 0px 1px 3px 1px rgba(60, 64, 67, 0.15);\n",
              "      fill: #174EA6;\n",
              "    }\n",
              "\n",
              "    [theme=dark] .colab-df-convert {\n",
              "      background-color: #3B4455;\n",
              "      fill: #D2E3FC;\n",
              "    }\n",
              "\n",
              "    [theme=dark] .colab-df-convert:hover {\n",
              "      background-color: #434B5C;\n",
              "      box-shadow: 0px 1px 3px 1px rgba(0, 0, 0, 0.15);\n",
              "      filter: drop-shadow(0px 1px 2px rgba(0, 0, 0, 0.3));\n",
              "      fill: #FFFFFF;\n",
              "    }\n",
              "  </style>\n",
              "\n",
              "      <script>\n",
              "        const buttonEl =\n",
              "          document.querySelector('#df-c21e4e60-c246-4c24-bb1c-4f25a797af75 button.colab-df-convert');\n",
              "        buttonEl.style.display =\n",
              "          google.colab.kernel.accessAllowed ? 'block' : 'none';\n",
              "\n",
              "        async function convertToInteractive(key) {\n",
              "          const element = document.querySelector('#df-c21e4e60-c246-4c24-bb1c-4f25a797af75');\n",
              "          const dataTable =\n",
              "            await google.colab.kernel.invokeFunction('convertToInteractive',\n",
              "                                                     [key], {});\n",
              "          if (!dataTable) return;\n",
              "\n",
              "          const docLinkHtml = 'Like what you see? Visit the ' +\n",
              "            '<a target=\"_blank\" href=https://colab.research.google.com/notebooks/data_table.ipynb>data table notebook</a>'\n",
              "            + ' to learn more about interactive tables.';\n",
              "          element.innerHTML = '';\n",
              "          dataTable['output_type'] = 'display_data';\n",
              "          await google.colab.output.renderOutput(dataTable, element);\n",
              "          const docLink = document.createElement('div');\n",
              "          docLink.innerHTML = docLinkHtml;\n",
              "          element.appendChild(docLink);\n",
              "        }\n",
              "      </script>\n",
              "    </div>\n",
              "  </div>\n",
              "  "
            ]
          },
          "metadata": {},
          "execution_count": 3
        }
      ]
    },
    {
      "cell_type": "markdown",
      "source": [
        "Splitting the dataset into the Training set and Test set"
      ],
      "metadata": {
        "id": "udIG1BJfZyEE"
      }
    },
    {
      "cell_type": "code",
      "source": [
        "X=data.iloc[:,2:4].values\n",
        "y=data.iloc[:,-1].values"
      ],
      "metadata": {
        "id": "pgOonc08KSFr"
      },
      "execution_count": 4,
      "outputs": []
    },
    {
      "cell_type": "code",
      "source": [
        "X.shape"
      ],
      "metadata": {
        "colab": {
          "base_uri": "https://localhost:8080/"
        },
        "id": "bMzIHCcxKVd7",
        "outputId": "f9263b92-5f9c-4bcb-d0ea-063c77f82890"
      },
      "execution_count": 5,
      "outputs": [
        {
          "output_type": "execute_result",
          "data": {
            "text/plain": [
              "(400, 2)"
            ]
          },
          "metadata": {},
          "execution_count": 5
        }
      ]
    },
    {
      "cell_type": "code",
      "source": [
        "y.shape"
      ],
      "metadata": {
        "colab": {
          "base_uri": "https://localhost:8080/"
        },
        "id": "QpaUvnk2KW3T",
        "outputId": "65382353-c18e-4d9a-de2c-13240472e13b"
      },
      "execution_count": 6,
      "outputs": [
        {
          "output_type": "execute_result",
          "data": {
            "text/plain": [
              "(400,)"
            ]
          },
          "metadata": {},
          "execution_count": 6
        }
      ]
    },
    {
      "cell_type": "code",
      "source": [
        "from sklearn.model_selection import train_test_split\n",
        "X_train,X_test,y_train,y_test=train_test_split(X,y,test_size=0.2)"
      ],
      "metadata": {
        "id": "dMr-BGxUKZtz"
      },
      "execution_count": 7,
      "outputs": []
    },
    {
      "cell_type": "markdown",
      "source": [
        "Feature Scaling"
      ],
      "metadata": {
        "id": "X4Bj4iyfZ1t8"
      }
    },
    {
      "cell_type": "code",
      "source": [
        "from sklearn.preprocessing import StandardScaler\n",
        "scaler = StandardScaler()"
      ],
      "metadata": {
        "id": "IXkELtp2he28"
      },
      "execution_count": 8,
      "outputs": []
    },
    {
      "cell_type": "markdown",
      "source": [
        "Fitting K-NN to the Training set\n",
        "\n"
      ],
      "metadata": {
        "id": "3-x1HKt1hkmG"
      }
    },
    {
      "cell_type": "code",
      "source": [
        "X_train = scaler.fit_transform(X_train)\n",
        "X_train"
      ],
      "metadata": {
        "colab": {
          "base_uri": "https://localhost:8080/"
        },
        "id": "0nUNnygkKdJb",
        "outputId": "5c79413c-9070-45c5-8d4d-c649d740b97b"
      },
      "execution_count": 9,
      "outputs": [
        {
          "output_type": "execute_result",
          "data": {
            "text/plain": [
              "array([[ 1.51299808, -1.25747234],\n",
              "       [-0.05864782,  2.22234851],\n",
              "       [-0.52089661, -1.49339239],\n",
              "       [ 0.77340001,  0.39396806],\n",
              "       [-1.07559516, -0.49073215],\n",
              "       [-1.07559516, -1.58186241],\n",
              "       [-0.79824589,  0.33498805],\n",
              "       [ 0.1262517 ,  0.80682816],\n",
              "       [-1.63029371, -1.34594236],\n",
              "       [ 0.95829953, -1.16900231],\n",
              "       [ 0.1262517 ,  0.06957799],\n",
              "       [ 1.42054832,  0.39396806],\n",
              "       [-0.42844685,  2.36979854],\n",
              "       [ 2.06769664, -0.78563222],\n",
              "       [ 0.21870146, -0.2843021 ],\n",
              "       [ 1.51299808,  1.04274822],\n",
              "       [-0.24354733,  0.65937813],\n",
              "       [-1.35294444, -0.16634207],\n",
              "       [-0.33599709,  1.3671383 ],\n",
              "       [-0.24354733, -0.10736206],\n",
              "       [-0.24354733, -0.40226213],\n",
              "       [-1.16804492, -1.05104229],\n",
              "       [ 1.42054832,  2.1928585 ],\n",
              "       [-0.24354733,  0.18753801],\n",
              "       [ 0.86584977,  1.13121824],\n",
              "       [-0.05864782, -0.46124214],\n",
              "       [-0.24354733,  0.09906799],\n",
              "       [ 0.95829953, -0.99206227],\n",
              "       [ 0.03380194, -0.54971216],\n",
              "       [ 2.06769664,  1.16070825],\n",
              "       [ 1.14319905, -0.72665221],\n",
              "       [ 0.21870146, -0.34328211],\n",
              "       [ 1.97524688,  0.57090811],\n",
              "       [ 0.31115122,  0.30549804],\n",
              "       [-0.05864782,  2.28132852],\n",
              "       [ 2.06769664, -0.78563222],\n",
              "       [-1.72274347,  0.21702802],\n",
              "       [-0.79824589, -0.75614221],\n",
              "       [-0.52089661,  1.95693844],\n",
              "       [-0.05864782,  0.06957799],\n",
              "       [ 1.79034736, -1.05104229],\n",
              "       [ 0.40360098,  1.04274822],\n",
              "       [-0.42844685, -0.75614221],\n",
              "       [-1.53784396, -0.01889204],\n",
              "       [-0.05864782,  0.71835814],\n",
              "       [-0.05864782, -0.34328211],\n",
              "       [ 0.95829953,  2.13387849],\n",
              "       [-0.70579613,  0.60039811],\n",
              "       [ 0.95829953,  1.92744844],\n",
              "       [ 0.86584977, -0.57920217],\n",
              "       [-0.61334637,  1.45560832],\n",
              "       [-0.24354733, -0.90359225],\n",
              "       [-1.07559516,  0.33498805],\n",
              "       [ 0.68095025,  1.83897841],\n",
              "       [-0.24354733, -0.72665221],\n",
              "       [-0.61334637, -1.02155228],\n",
              "       [ 0.31115122, -0.2843021 ],\n",
              "       [ 0.77340001, -0.81512223],\n",
              "       [-1.07559516,  0.36447806],\n",
              "       [ 0.03380194,  0.33498805],\n",
              "       [-0.05864782, -1.05104229],\n",
              "       [-0.70579613,  1.39662831],\n",
              "       [ 0.77340001, -1.08053229],\n",
              "       [ 2.06769664,  0.98376821],\n",
              "       [ 0.77340001, -1.34594236],\n",
              "       [-0.70579613, -0.19583208],\n",
              "       [-0.42844685, -0.25481209],\n",
              "       [-1.26049468,  0.60039811],\n",
              "       [-1.81519323,  0.51192809],\n",
              "       [ 0.21870146,  0.09906799],\n",
              "       [ 1.05074929,  0.60039811],\n",
              "       [ 0.68095025,  0.30549804],\n",
              "       [ 1.6978976 , -0.25481209],\n",
              "       [-0.15109757, -0.49073215],\n",
              "       [-0.33599709, -0.75614221],\n",
              "       [ 1.79034736, -0.25481209],\n",
              "       [-0.52089661,  1.51458834],\n",
              "       [-1.26049468, -1.08053229],\n",
              "       [ 1.51299808,  0.04008798],\n",
              "       [-1.07559516, -1.55237241],\n",
              "       [-0.05864782,  0.27600804],\n",
              "       [ 0.03380194, -0.54971216],\n",
              "       [-0.89069564, -0.2843021 ],\n",
              "       [-1.53784396, -1.55237241],\n",
              "       [-0.9831454 , -0.34328211],\n",
              "       [-1.07559516, -0.99206227],\n",
              "       [-0.79824589, -1.19849232],\n",
              "       [-0.61334637,  0.60039811],\n",
              "       [ 0.31115122,  0.33498805],\n",
              "       [ 2.06769664, -1.02155228],\n",
              "       [-0.15109757,  0.89529819],\n",
              "       [-0.15109757, -0.25481209],\n",
              "       [ 1.60544784,  1.80948841],\n",
              "       [-1.07559516,  0.45294808],\n",
              "       [ 0.95829953, -1.05104229],\n",
              "       [ 0.40360098, -0.43175214],\n",
              "       [-1.4453942 , -0.40226213],\n",
              "       [-0.52089661,  2.39928855],\n",
              "       [ 0.86584977, -1.28696234],\n",
              "       [-0.15109757,  2.22234851],\n",
              "       [-0.9831454 , -1.1100223 ],\n",
              "       [-1.35294444,  0.39396806],\n",
              "       [-0.42844685, -0.81512223],\n",
              "       [-0.52089661, -1.49339239],\n",
              "       [-1.26049468, -1.22798233],\n",
              "       [-1.07559516, -1.13951231],\n",
              "       [ 1.97524688,  0.42345807],\n",
              "       [ 0.40360098,  0.18753801],\n",
              "       [-1.4453942 , -1.49339239],\n",
              "       [-0.15109757, -0.43175214],\n",
              "       [-0.15109757, -0.16634207],\n",
              "       [-0.70579613,  1.95693844],\n",
              "       [-0.24354733, -0.46124214],\n",
              "       [ 0.21870146,  0.06957799],\n",
              "       [-0.70579613, -1.5228824 ],\n",
              "       [ 0.03380194, -0.52022216],\n",
              "       [ 0.03380194, -0.22532209],\n",
              "       [ 0.03380194, -0.40226213],\n",
              "       [ 0.40360098,  0.62988812],\n",
              "       [-0.89069564, -0.2843021 ],\n",
              "       [ 1.32809857,  2.04540846],\n",
              "       [-0.42844685,  0.01059797],\n",
              "       [ 0.1262517 ,  1.10172824],\n",
              "       [-0.15109757,  1.45560832],\n",
              "       [ 0.40360098,  0.33498805],\n",
              "       [ 0.95829953, -1.13951231],\n",
              "       [ 1.97524688, -1.16900231],\n",
              "       [ 0.1262517 , -0.22532209],\n",
              "       [-0.9831454 , -0.31379211],\n",
              "       [ 1.32809857,  1.33764829],\n",
              "       [ 1.23564881, -1.34594236],\n",
              "       [ 0.68095025, -1.37543236],\n",
              "       [-0.24354733,  0.09906799],\n",
              "       [-0.79824589,  0.42345807],\n",
              "       [ 1.97524688,  0.21702802],\n",
              "       [ 0.86584977, -1.34594236],\n",
              "       [ 0.31115122, -1.13951231],\n",
              "       [-0.9831454 ,  0.45294808],\n",
              "       [-0.79824589, -0.75614221],\n",
              "       [ 0.86584977, -0.75614221],\n",
              "       [ 0.5885005 ,  2.07489847],\n",
              "       [ 0.21870146, -0.34328211],\n",
              "       [-0.89069564, -0.40226213],\n",
              "       [-0.24354733, -1.28696234],\n",
              "       [-0.70579613,  0.30549804],\n",
              "       [-0.05864782,  2.01591846],\n",
              "       [ 0.1262517 ,  0.30549804],\n",
              "       [-0.52089661,  0.92478819],\n",
              "       [-0.9831454 , -0.43175214],\n",
              "       [ 1.42054832,  0.09906799],\n",
              "       [-0.24354733, -0.54971216],\n",
              "       [ 0.95829953,  0.15804801],\n",
              "       [-0.24354733, -0.22532209],\n",
              "       [-1.07559516,  0.33498805],\n",
              "       [-0.61334637, -1.49339239],\n",
              "       [ 1.79034736,  1.57356835],\n",
              "       [-1.26049468, -1.46390239],\n",
              "       [ 0.86584977, -1.43441238],\n",
              "       [-1.07559516, -0.75614221],\n",
              "       [ 1.05074929,  0.51192809],\n",
              "       [ 0.86584977,  1.07223823],\n",
              "       [ 0.86584977, -1.13951231],\n",
              "       [-0.79824589,  0.18753801],\n",
              "       [ 1.32809857, -1.40492237],\n",
              "       [-0.9831454 ,  0.80682816],\n",
              "       [ 0.21870146,  0.18753801],\n",
              "       [-0.24354733, -0.54971216],\n",
              "       [-1.63029371,  0.39396806],\n",
              "       [ 0.40360098, -0.10736206],\n",
              "       [-1.81519323, -0.49073215],\n",
              "       [-0.70579613, -0.57920217],\n",
              "       [-0.89069564, -1.08053229],\n",
              "       [-0.79824589, -0.63818219],\n",
              "       [-0.24354733, -0.87410224],\n",
              "       [ 1.6978976 ,  1.89795843],\n",
              "       [ 0.40360098,  2.36979854],\n",
              "       [-0.61334637, -0.01889204],\n",
              "       [ 1.79034736, -1.25747234],\n",
              "       [-1.16804492, -1.37543236],\n",
              "       [-0.89069564,  0.60039811],\n",
              "       [-1.07559516,  0.51192809],\n",
              "       [ 2.06769664,  0.42345807],\n",
              "       [-1.4453942 ,  0.36447806],\n",
              "       [-0.24354733, -0.25481209],\n",
              "       [-0.24354733,  0.18753801],\n",
              "       [ 0.31115122,  0.06957799],\n",
              "       [-0.89069564, -0.72665221],\n",
              "       [-0.61334637, -0.31379211],\n",
              "       [ 1.88279712, -1.34594236],\n",
              "       [ 0.31115122, -0.52022216],\n",
              "       [-1.72274347, -1.46390239],\n",
              "       [ 1.97524688,  2.1928585 ],\n",
              "       [-0.15109757,  0.18753801],\n",
              "       [-0.24354733, -1.22798233],\n",
              "       [ 0.03380194,  0.06957799],\n",
              "       [ 0.95829953, -1.05104229],\n",
              "       [-1.16804492,  0.33498805],\n",
              "       [-0.05864782,  0.33498805],\n",
              "       [-0.89069564,  0.30549804],\n",
              "       [-1.26049468, -0.31379211],\n",
              "       [-0.24354733, -1.34594236],\n",
              "       [-1.72274347,  0.04008798],\n",
              "       [ 0.03380194, -0.10736206],\n",
              "       [ 0.1262517 ,  1.92744844],\n",
              "       [ 1.60544784,  1.66203837],\n",
              "       [-0.9831454 ,  0.60039811],\n",
              "       [-0.52089661,  1.42611831],\n",
              "       [-0.05864782,  0.30549804],\n",
              "       [-0.61334637, -0.07787205],\n",
              "       [ 0.31115122, -0.49073215],\n",
              "       [ 0.77340001,  0.57090811],\n",
              "       [-0.79824589, -0.22532209],\n",
              "       [-1.4453942 , -1.22798233],\n",
              "       [-1.07559516,  0.09906799],\n",
              "       [-1.4453942 , -0.16634207],\n",
              "       [ 0.31115122, -0.25481209],\n",
              "       [ 0.68095025, -1.25747234],\n",
              "       [-0.05864782,  0.18753801],\n",
              "       [-1.63029371,  0.51192809],\n",
              "       [-0.89069564,  0.45294808],\n",
              "       [-1.16804492,  0.30549804],\n",
              "       [ 1.05074929, -0.96257226],\n",
              "       [ 0.77340001, -1.37543236],\n",
              "       [ 0.31115122, -0.49073215],\n",
              "       [ 1.14319905, -1.43441238],\n",
              "       [ 0.49605074,  1.27866828],\n",
              "       [-0.42844685,  1.30815829],\n",
              "       [ 0.40360098, -0.13685206],\n",
              "       [ 0.31115122,  0.09906799],\n",
              "       [ 0.86584977, -0.54971216],\n",
              "       [ 0.03380194,  1.27866828],\n",
              "       [ 1.05074929, -1.19849232],\n",
              "       [ 1.32809857, -0.90359225],\n",
              "       [ 1.42054832, -1.02155228],\n",
              "       [-0.61334637, -1.58186241],\n",
              "       [ 0.1262517 ,  0.06957799],\n",
              "       [ 0.77340001,  0.80682816],\n",
              "       [-1.16804492,  0.5414181 ],\n",
              "       [-0.24354733,  0.06957799],\n",
              "       [-1.81519323, -0.01889204],\n",
              "       [-0.89069564, -0.93308226],\n",
              "       [ 0.5885005 , -0.87410224],\n",
              "       [-0.9831454 ,  2.01591846],\n",
              "       [-0.89069564,  0.5414181 ],\n",
              "       [ 1.05074929,  0.15804801],\n",
              "       [ 0.40360098,  1.16070825],\n",
              "       [-1.26049468, -0.40226213],\n",
              "       [ 0.86584977, -0.52022216],\n",
              "       [-0.52089661,  0.51192809],\n",
              "       [ 0.21870146, -0.25481209],\n",
              "       [ 1.88279712,  2.22234851],\n",
              "       [ 0.86584977,  1.30815829],\n",
              "       [ 0.40360098, -0.46124214],\n",
              "       [-1.35294444, -1.19849232],\n",
              "       [-1.72274347, -1.40492237],\n",
              "       [-0.33599709, -0.75614221],\n",
              "       [ 0.31115122,  0.09906799],\n",
              "       [ 1.88279712, -0.63818219],\n",
              "       [-0.15109757,  1.66203837],\n",
              "       [ 1.97524688, -0.78563222],\n",
              "       [-1.81519323,  0.39396806],\n",
              "       [-1.63029371, -0.96257226],\n",
              "       [ 0.77340001, -1.19849232],\n",
              "       [-0.05864782, -0.40226213],\n",
              "       [-0.24354733, -1.43441238],\n",
              "       [-1.63029371, -0.57920217],\n",
              "       [ 0.21870146,  2.16336849],\n",
              "       [-1.53784396,  0.09906799],\n",
              "       [ 0.31115122,  0.09906799],\n",
              "       [-0.42844685, -1.1100223 ],\n",
              "       [ 1.14319905,  0.57090811],\n",
              "       [ 1.60544784, -0.87410224],\n",
              "       [-0.24354733, -0.63818219],\n",
              "       [-0.9831454 ,  0.62988812],\n",
              "       [ 0.21870146,  1.13121824],\n",
              "       [-0.05864782,  0.15804801],\n",
              "       [ 1.88279712, -0.90359225],\n",
              "       [ 1.6978976 ,  1.04274822],\n",
              "       [ 1.97524688,  1.80948841],\n",
              "       [ 0.77340001,  0.30549804],\n",
              "       [-1.81519323, -0.72665221],\n",
              "       [ 1.88279712,  0.9542782 ],\n",
              "       [ 0.40360098,  0.30549804],\n",
              "       [-0.9831454 , -1.5228824 ],\n",
              "       [-0.24354733, -0.2843021 ],\n",
              "       [ 1.79034736,  0.15804801],\n",
              "       [-0.61334637,  0.15804801],\n",
              "       [ 1.23564881,  1.92744844],\n",
              "       [ 0.03380194,  1.30815829],\n",
              "       [-0.33599709,  0.09906799],\n",
              "       [-0.89069564,  0.48243809],\n",
              "       [-0.70579613, -1.58186241],\n",
              "       [-1.07559516, -1.5228824 ],\n",
              "       [ 0.86584977, -0.63818219],\n",
              "       [ 0.1262517 , -0.2843021 ],\n",
              "       [-1.26049468,  0.45294808],\n",
              "       [ 1.14319905, -0.96257226],\n",
              "       [ 1.32809857,  2.39928855],\n",
              "       [-0.89069564,  1.60305836],\n",
              "       [ 1.32809857,  0.62988812],\n",
              "       [-0.24354733,  0.57090811],\n",
              "       [ 1.05074929,  0.57090811],\n",
              "       [ 0.68095025, -0.6971622 ],\n",
              "       [ 0.21870146, -0.10736206],\n",
              "       [ 0.21870146, -0.22532209],\n",
              "       [ 0.03380194, -0.2843021 ],\n",
              "       [ 0.40360098,  0.33498805],\n",
              "       [-1.72274347, -1.28696234],\n",
              "       [-0.05864782,  0.04008798],\n",
              "       [ 0.31115122, -0.6971622 ],\n",
              "       [-1.72274347, -1.25747234],\n",
              "       [-0.61334637,  0.06957799],\n",
              "       [-1.53784396,  0.57090811],\n",
              "       [-0.79824589,  2.34030854],\n",
              "       [ 1.05074929, -0.87410224],\n",
              "       [-0.05864782,  0.33498805],\n",
              "       [-0.24354733,  0.83631817],\n",
              "       [ 0.1262517 ,  1.57356835],\n",
              "       [ 0.95829953,  1.48509833],\n",
              "       [-1.16804492,  0.62988812]])"
            ]
          },
          "metadata": {},
          "execution_count": 9
        }
      ]
    },
    {
      "cell_type": "code",
      "source": [
        "np.sqrt(X_train.shape[0])"
      ],
      "metadata": {
        "colab": {
          "base_uri": "https://localhost:8080/"
        },
        "id": "F_XyGQu_Kimb",
        "outputId": "cc97202a-94e3-4a79-8eef-a6f9d0a9cfc9"
      },
      "execution_count": 10,
      "outputs": [
        {
          "output_type": "execute_result",
          "data": {
            "text/plain": [
              "17.88854381999832"
            ]
          },
          "metadata": {},
          "execution_count": 10
        }
      ]
    },
    {
      "cell_type": "code",
      "source": [
        "k = 17"
      ],
      "metadata": {
        "id": "Q9gEf7b5KkTT"
      },
      "execution_count": 11,
      "outputs": []
    },
    {
      "cell_type": "code",
      "source": [
        "from sklearn.neighbors import KNeighborsClassifier\n",
        "knn = KNeighborsClassifier(n_neighbors=k)"
      ],
      "metadata": {
        "id": "b_vd78GBKlw7"
      },
      "execution_count": 14,
      "outputs": []
    },
    {
      "cell_type": "code",
      "source": [
        "knn.fit(X_train,y_train)"
      ],
      "metadata": {
        "colab": {
          "base_uri": "https://localhost:8080/"
        },
        "id": "rXk8DvZEiF9_",
        "outputId": "5c935d2d-e222-4de3-bfd8-88a3934d8fdd"
      },
      "execution_count": 15,
      "outputs": [
        {
          "output_type": "execute_result",
          "data": {
            "text/plain": [
              "KNeighborsClassifier(n_neighbors=17)"
            ]
          },
          "metadata": {},
          "execution_count": 15
        }
      ]
    },
    {
      "cell_type": "code",
      "source": [
        "y_pred = knn.predict(X_test)"
      ],
      "metadata": {
        "id": "FQmP90OEiK1m"
      },
      "execution_count": 16,
      "outputs": []
    },
    {
      "cell_type": "code",
      "source": [
        "y_pred.shape"
      ],
      "metadata": {
        "colab": {
          "base_uri": "https://localhost:8080/"
        },
        "id": "CgbaiBW2iOEW",
        "outputId": "1159a2da-093d-4279-fec4-51e68f17b8db"
      },
      "execution_count": 17,
      "outputs": [
        {
          "output_type": "execute_result",
          "data": {
            "text/plain": [
              "(80,)"
            ]
          },
          "metadata": {},
          "execution_count": 17
        }
      ]
    },
    {
      "cell_type": "code",
      "source": [
        "y_test.shape"
      ],
      "metadata": {
        "colab": {
          "base_uri": "https://localhost:8080/"
        },
        "id": "wFzjSeuqiQHr",
        "outputId": "76e3d229-3c61-493a-9fa0-32bbe24a85d6"
      },
      "execution_count": 18,
      "outputs": [
        {
          "output_type": "execute_result",
          "data": {
            "text/plain": [
              "(80,)"
            ]
          },
          "metadata": {},
          "execution_count": 18
        }
      ]
    },
    {
      "cell_type": "markdown",
      "source": [
        "Predicting the Test set results"
      ],
      "metadata": {
        "id": "1TyySUbJiSzp"
      }
    },
    {
      "cell_type": "code",
      "source": [
        "from sklearn.metrics import accuracy_score\n",
        "accuracy_score(y_test,y_pred)"
      ],
      "metadata": {
        "colab": {
          "base_uri": "https://localhost:8080/"
        },
        "id": "1wAj6xMwiVjO",
        "outputId": "8fd23141-1071-4b26-cba6-fbf74f5681f8"
      },
      "execution_count": 19,
      "outputs": [
        {
          "output_type": "execute_result",
          "data": {
            "text/plain": [
              "0.3375"
            ]
          },
          "metadata": {},
          "execution_count": 19
        }
      ]
    },
    {
      "cell_type": "code",
      "source": [
        "from sklearn.metrics import confusion_matrix\n",
        "confusion_matrix(y_test,y_pred)"
      ],
      "metadata": {
        "colab": {
          "base_uri": "https://localhost:8080/"
        },
        "id": "vsQvINORik01",
        "outputId": "45cb4f1c-caea-4771-c817-e0fd5b3a01f2"
      },
      "execution_count": 20,
      "outputs": [
        {
          "output_type": "execute_result",
          "data": {
            "text/plain": [
              "array([[ 0, 53],\n",
              "       [ 0, 27]])"
            ]
          },
          "metadata": {},
          "execution_count": 20
        }
      ]
    },
    {
      "cell_type": "code",
      "source": [
        "accuracy = []\n",
        "\n",
        "for i in range(1,26):\n",
        "    knn = KNeighborsClassifier(n_neighbors=i)\n",
        "    knn.fit(X_train,y_train)\n",
        "    accuracy.append(accuracy_score(y_test,knn.predict(X_test)))"
      ],
      "metadata": {
        "id": "X_OtmXUvisLV"
      },
      "execution_count": 21,
      "outputs": []
    }
  ]
}